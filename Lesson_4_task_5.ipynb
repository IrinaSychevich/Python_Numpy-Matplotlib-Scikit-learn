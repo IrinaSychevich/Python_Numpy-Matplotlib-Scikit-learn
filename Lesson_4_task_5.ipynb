{
 "cells": [
  {
   "cell_type": "markdown",
   "id": "0c2f9bfd",
   "metadata": {},
   "source": [
    "# Задание на повторение материала"
   ]
  },
  {
   "cell_type": "code",
   "execution_count": 1,
   "id": "8638432b",
   "metadata": {},
   "outputs": [],
   "source": [
    "import numpy as np"
   ]
  },
  {
   "cell_type": "markdown",
   "id": "e88b7505",
   "metadata": {},
   "source": [
    "## Задание 1"
   ]
  },
  {
   "cell_type": "markdown",
   "id": "3c00d1bb",
   "metadata": {},
   "source": [
    "Создать одномерный массив Numpy под названием a из 12 последовательных целых чисел чисел от 12 до 24 невключительно"
   ]
  },
  {
   "cell_type": "code",
   "execution_count": 2,
   "id": "5ccacd9a",
   "metadata": {},
   "outputs": [
    {
     "name": "stdout",
     "output_type": "stream",
     "text": [
      "[12 13 14 15 16 17 18 19 20 21 22 23]\n"
     ]
    }
   ],
   "source": [
    "a = np.arange(12, 24, 1)\n",
    "print(a)"
   ]
  },
  {
   "cell_type": "markdown",
   "id": "fa3a556a",
   "metadata": {},
   "source": [
    "## Задание 2"
   ]
  },
  {
   "cell_type": "markdown",
   "id": "1a65abf0",
   "metadata": {},
   "source": [
    "Создать 5 двумерных массивов разной формы из массива a. Не использовать в аргументах метода reshape число -1."
   ]
  },
  {
   "cell_type": "code",
   "execution_count": 3,
   "id": "3cdde9ca",
   "metadata": {},
   "outputs": [
    {
     "name": "stdout",
     "output_type": "stream",
     "text": [
      "[[12 13 14 15 16 17]\n",
      " [18 19 20 21 22 23]]\n",
      "[[12 13 14 15]\n",
      " [16 17 18 19]\n",
      " [20 21 22 23]]\n",
      "[[12 13 14]\n",
      " [15 16 17]\n",
      " [18 19 20]\n",
      " [21 22 23]]\n",
      "[[12 13]\n",
      " [14 15]\n",
      " [16 17]\n",
      " [18 19]\n",
      " [20 21]\n",
      " [22 23]]\n",
      "[[12]\n",
      " [13]\n",
      " [14]\n",
      " [15]\n",
      " [16]\n",
      " [17]\n",
      " [18]\n",
      " [19]\n",
      " [20]\n",
      " [21]\n",
      " [22]\n",
      " [23]]\n"
     ]
    }
   ],
   "source": [
    "a_1 = a.reshape(2, 6)\n",
    "print(a_1)\n",
    "a_2 = a.reshape(3, 4)\n",
    "print(a_2)\n",
    "a_3 = a.reshape(4, 3)\n",
    "print(a_3)\n",
    "a_4 = a.reshape(6, 2)\n",
    "print(a_4)\n",
    "a_5 = a.reshape(12, 1)\n",
    "print(a_5)"
   ]
  },
  {
   "cell_type": "markdown",
   "id": "77b54234",
   "metadata": {},
   "source": [
    "## Задание 3"
   ]
  },
  {
   "cell_type": "markdown",
   "id": "b4a686ea",
   "metadata": {},
   "source": [
    "Создать 5 двумерных массивов разной формы из массива a. Использовать в аргументах метода reshape число -1 (в трех примерах - для обозначения числа столбцов, в двух - для строк)."
   ]
  },
  {
   "cell_type": "code",
   "execution_count": 4,
   "id": "33857342",
   "metadata": {},
   "outputs": [
    {
     "name": "stdout",
     "output_type": "stream",
     "text": [
      "[[12 13 14 15 16 17]\n",
      " [18 19 20 21 22 23]]\n",
      "[[12 13 14 15]\n",
      " [16 17 18 19]\n",
      " [20 21 22 23]]\n",
      "[[12 13 14]\n",
      " [15 16 17]\n",
      " [18 19 20]\n",
      " [21 22 23]]\n",
      "[[12 13]\n",
      " [14 15]\n",
      " [16 17]\n",
      " [18 19]\n",
      " [20 21]\n",
      " [22 23]]\n",
      "[[12]\n",
      " [13]\n",
      " [14]\n",
      " [15]\n",
      " [16]\n",
      " [17]\n",
      " [18]\n",
      " [19]\n",
      " [20]\n",
      " [21]\n",
      " [22]\n",
      " [23]]\n"
     ]
    }
   ],
   "source": [
    "a_1 = a.reshape(-1, 6)\n",
    "print(a_1)\n",
    "a_2 = a.reshape(-1, 4)\n",
    "print(a_2)\n",
    "a_3 = a.reshape(4, -1)\n",
    "print(a_3)\n",
    "a_4 = a.reshape(6, -1)\n",
    "print(a_4)\n",
    "a_5 = a.reshape(12, -1)\n",
    "print(a_5)"
   ]
  },
  {
   "cell_type": "markdown",
   "id": "53463cec",
   "metadata": {},
   "source": [
    "## Задание 4"
   ]
  },
  {
   "cell_type": "markdown",
   "id": "fc9bc1ac",
   "metadata": {},
   "source": [
    "Можно ли массив Numpy, состоящий из одного столбца и 12 строк, назвать одномерным?"
   ]
  },
  {
   "cell_type": "markdown",
   "id": "c7565a1f",
   "metadata": {},
   "source": [
    "Нет. Если извлечь из него первый элемент, то можно увидеть, что он представляет собой массив, а не число, как в одномерном массиве состоящем из одной строки и 12 столбцов:"
   ]
  },
  {
   "cell_type": "code",
   "execution_count": 5,
   "id": "8b0c5da2",
   "metadata": {},
   "outputs": [
    {
     "name": "stdout",
     "output_type": "stream",
     "text": [
      "<class 'numpy.int32'>\n"
     ]
    }
   ],
   "source": [
    "z = a[0]\n",
    "print(type(z))"
   ]
  },
  {
   "cell_type": "code",
   "execution_count": 6,
   "id": "7de91f9b",
   "metadata": {},
   "outputs": [
    {
     "name": "stdout",
     "output_type": "stream",
     "text": [
      "<class 'numpy.ndarray'>\n"
     ]
    }
   ],
   "source": [
    "z = a_5[0]\n",
    "print(type(z))"
   ]
  },
  {
   "cell_type": "markdown",
   "id": "32281cee",
   "metadata": {},
   "source": [
    "## Задание 5"
   ]
  },
  {
   "cell_type": "markdown",
   "id": "e081ed73",
   "metadata": {},
   "source": [
    "Создать массив из 3 строк и 4 столбцов, состоящий из случайных чисел с плавающей запятой из нормального распределения со средним, равным 0 и среднеквадратичным отклонением, равным 1.0. Получить из этого массива одномерный массив с таким же атрибутом size, как и исходный массив."
   ]
  },
  {
   "cell_type": "code",
   "execution_count": 7,
   "id": "cf26ea76",
   "metadata": {},
   "outputs": [
    {
     "name": "stdout",
     "output_type": "stream",
     "text": [
      "[[ 1.59278593 -0.53327277  0.32367387 -0.80378279]\n",
      " [ 1.52529926 -0.7155642  -1.74537897  2.69079226]\n",
      " [-0.29143141 -0.00483039 -0.26578668  1.26698465]]\n",
      "[ 1.59278593 -0.53327277  0.32367387 -0.80378279  1.52529926 -0.7155642\n",
      " -1.74537897  2.69079226 -0.29143141 -0.00483039 -0.26578668  1.26698465]\n",
      "True\n"
     ]
    }
   ],
   "source": [
    "b = np.random.randn(3, 4)\n",
    "print(b)\n",
    "b_1 = b.flatten()\n",
    "print(b_1)\n",
    "print(b.size == b_1.size)"
   ]
  },
  {
   "cell_type": "markdown",
   "id": "65c0b230",
   "metadata": {},
   "source": [
    "## Задание 6"
   ]
  },
  {
   "cell_type": "markdown",
   "id": "11a47b53",
   "metadata": {},
   "source": [
    "Создать массив a, состоящий из целых чисел, убывающих от 20 до 0 невключительно с интервалом 2."
   ]
  },
  {
   "cell_type": "code",
   "execution_count": 8,
   "id": "0157ac87",
   "metadata": {},
   "outputs": [
    {
     "name": "stdout",
     "output_type": "stream",
     "text": [
      "[20 18 16 14 12 10  8  6  4  2]\n"
     ]
    }
   ],
   "source": [
    "a = np.arange(20, 0, -2)\n",
    "print(a)"
   ]
  },
  {
   "cell_type": "markdown",
   "id": "4a039d64",
   "metadata": {},
   "source": [
    "## Задание 7"
   ]
  },
  {
   "cell_type": "markdown",
   "id": "44c837d9",
   "metadata": {},
   "source": [
    "Создать массив b, состоящий из 1 строки и 10 столбцов: целых чисел, убывающих от 20 до 1 невключительно с интервалом 2. В чем разница между массивами a и b?\n"
   ]
  },
  {
   "cell_type": "code",
   "execution_count": 9,
   "id": "daf2f0da",
   "metadata": {},
   "outputs": [
    {
     "name": "stdout",
     "output_type": "stream",
     "text": [
      "[[20]\n",
      " [18]\n",
      " [16]\n",
      " [14]\n",
      " [12]\n",
      " [10]\n",
      " [ 8]\n",
      " [ 6]\n",
      " [ 4]\n",
      " [ 2]]\n"
     ]
    }
   ],
   "source": [
    "b = np.arange(20, 1, -2).reshape(10, -1)\n",
    "print(b)"
   ]
  },
  {
   "cell_type": "markdown",
   "id": "790c4c60",
   "metadata": {},
   "source": [
    "Массив b - двумерный, а массив а - одномерный."
   ]
  },
  {
   "cell_type": "markdown",
   "id": "555446e7",
   "metadata": {},
   "source": [
    "\n",
    "\n",
    "## Задание 8"
   ]
  },
  {
   "cell_type": "markdown",
   "id": "0cf3e28d",
   "metadata": {},
   "source": [
    "Вертикально соединить массивы a и b. a - двумерный массив из нулей, число строк которого больше 1 и на 1 меньше, чем число строк двумерного массива b, состоящего из единиц. Итоговый массив v должен иметь атрибут size, равный 10.\n"
   ]
  },
  {
   "cell_type": "code",
   "execution_count": 10,
   "id": "9c143628",
   "metadata": {},
   "outputs": [
    {
     "name": "stdout",
     "output_type": "stream",
     "text": [
      "[[0. 0.]\n",
      " [0. 0.]\n",
      " [1. 1.]\n",
      " [1. 1.]\n",
      " [1. 1.]]\n",
      "True\n"
     ]
    }
   ],
   "source": [
    "a =  np.zeros((2, 2))\n",
    "b =  np.ones((3, 2))\n",
    "c = np.vstack((a, b))\n",
    "print(c)\n",
    "print(c.size == 10)"
   ]
  },
  {
   "cell_type": "markdown",
   "id": "47955d21",
   "metadata": {},
   "source": [
    "## Задание 9"
   ]
  },
  {
   "cell_type": "markdown",
   "id": "39f3b17e",
   "metadata": {},
   "source": [
    "Создать одномерный массив а, состоящий из последовательности целых чисел от 0 до 12. Поменять форму этого массива, чтобы получилась матрица A (двумерный массив Numpy), состоящая из 4 строк и 3 столбцов. Получить матрицу At путем транспонирования матрицы A. Получить матрицу B, умножив матрицу A на матрицу At с помощью матричного умножения. Какой размер имеет матрица B? Получится ли вычислить обратную матрицу для матрицы B и почему?\n"
   ]
  },
  {
   "cell_type": "code",
   "execution_count": 26,
   "id": "26fd3c9a",
   "metadata": {},
   "outputs": [
    {
     "name": "stdout",
     "output_type": "stream",
     "text": [
      "[ 0  1  2  3  4  5  6  7  8  9 10 11]\n",
      "[[ 0  1  2]\n",
      " [ 3  4  5]\n",
      " [ 6  7  8]\n",
      " [ 9 10 11]]\n",
      "[[ 0  3  6  9]\n",
      " [ 1  4  7 10]\n",
      " [ 2  5  8 11]]\n",
      "[[  5  14  23  32]\n",
      " [ 14  50  86 122]\n",
      " [ 23  86 149 212]\n",
      " [ 32 122 212 302]]\n"
     ]
    }
   ],
   "source": [
    "a = np.arange(0, 12, 1)\n",
    "A = a.reshape(4, 3)\n",
    "At = A.T\n",
    "B = A.dot(At)\n",
    "print(a)\n",
    "print(A)\n",
    "print(At)\n",
    "print(B)"
   ]
  },
  {
   "cell_type": "markdown",
   "id": "2726c170",
   "metadata": {},
   "source": [
    "Матрица B имеет размер 4*4, т.е. количество строк и столбцов в ней равно количеству строк в матрице А или столбцов в матрице At ."
   ]
  },
  {
   "cell_type": "code",
   "execution_count": 27,
   "id": "f6c8e53f",
   "metadata": {},
   "outputs": [
    {
     "name": "stdout",
     "output_type": "stream",
     "text": [
      "0.0\n"
     ]
    }
   ],
   "source": [
    "d = np.linalg.det(B)\n",
    "print(d)"
   ]
  },
  {
   "cell_type": "markdown",
   "id": "89355925",
   "metadata": {},
   "source": [
    "Поскольку определитель матрицы В равен 0, вычислить обратную матрицу для нее нельзя."
   ]
  },
  {
   "cell_type": "markdown",
   "id": "4418c914",
   "metadata": {},
   "source": [
    "## Задание 10"
   ]
  },
  {
   "cell_type": "markdown",
   "id": "5323eaee",
   "metadata": {},
   "source": [
    "Инициализируйте генератор случайных чисел с помощью объекта seed, равного 42.\n"
   ]
  },
  {
   "cell_type": "code",
   "execution_count": 28,
   "id": "81f35dc5",
   "metadata": {},
   "outputs": [
    {
     "name": "stdout",
     "output_type": "stream",
     "text": [
      "0.6394267984578837\n"
     ]
    }
   ],
   "source": [
    "import random\n",
    "random.seed(42)\n",
    "print(random.random())"
   ]
  },
  {
   "cell_type": "markdown",
   "id": "34369d83",
   "metadata": {},
   "source": [
    "## Задание 11"
   ]
  },
  {
   "cell_type": "markdown",
   "id": "f31c1887",
   "metadata": {},
   "source": [
    "Создайте одномерный массив c, составленный из последовательности 16-ти случайных равномерно распределенных целых чисел от 0 до 16 невключительно. "
   ]
  },
  {
   "cell_type": "code",
   "execution_count": 29,
   "id": "9c4372f7",
   "metadata": {},
   "outputs": [
    {
     "name": "stdout",
     "output_type": "stream",
     "text": [
      "[ 2  0  5  6  1 15  9  7  3  8 13 10 11 14 12  4]\n"
     ]
    }
   ],
   "source": [
    "c = np.arange(0, 16, 1)\n",
    "np.random.shuffle(c)\n",
    "print(c)"
   ]
  },
  {
   "cell_type": "markdown",
   "id": "210ce288",
   "metadata": {},
   "source": [
    "## Задание 12"
   ]
  },
  {
   "cell_type": "markdown",
   "id": "63968cd4",
   "metadata": {},
   "source": [
    "Поменяйте его форму так, чтобы получилась квадратная матрица C. Получите матрицу D, поэлементно прибавив матрицу B из предыдущего вопроса к матрице C, умноженной на 10. Вычислите определитель, ранг и обратную матрицу D_inv для D.\n"
   ]
  },
  {
   "cell_type": "code",
   "execution_count": 30,
   "id": "71749214",
   "metadata": {},
   "outputs": [
    {
     "name": "stdout",
     "output_type": "stream",
     "text": [
      "[[ 2  0  5  6]\n",
      " [ 1 15  9  7]\n",
      " [ 3  8 13 10]\n",
      " [11 14 12  4]]\n"
     ]
    }
   ],
   "source": [
    "C = c.reshape(4, 4)\n",
    "print(C)"
   ]
  },
  {
   "cell_type": "code",
   "execution_count": 31,
   "id": "0c55f1f6",
   "metadata": {},
   "outputs": [
    {
     "name": "stdout",
     "output_type": "stream",
     "text": [
      "[[ 25  14  73  92]\n",
      " [ 24 200 176 192]\n",
      " [ 53 166 279 312]\n",
      " [142 262 332 342]]\n"
     ]
    }
   ],
   "source": [
    "D = B + C * 10\n",
    "print(D)"
   ]
  },
  {
   "cell_type": "code",
   "execution_count": 32,
   "id": "eb62d01f",
   "metadata": {},
   "outputs": [
    {
     "name": "stdout",
     "output_type": "stream",
     "text": [
      "-25816800.000000007\n"
     ]
    }
   ],
   "source": [
    "d = np.linalg.det(D)\n",
    "print(d)"
   ]
  },
  {
   "cell_type": "code",
   "execution_count": 33,
   "id": "32106edb",
   "metadata": {},
   "outputs": [
    {
     "name": "stdout",
     "output_type": "stream",
     "text": [
      "4\n"
     ]
    }
   ],
   "source": [
    "r = np.linalg.matrix_rank(D)\n",
    "print(r)"
   ]
  },
  {
   "cell_type": "code",
   "execution_count": 34,
   "id": "fdf792ae",
   "metadata": {},
   "outputs": [
    {
     "name": "stdout",
     "output_type": "stream",
     "text": [
      "[[ 0.02678256  0.00208856 -0.019203    0.00914133]\n",
      " [ 0.00709306  0.01236327 -0.0102228   0.00047721]\n",
      " [-0.10754857 -0.0445028   0.05094047  0.00744322]\n",
      " [ 0.08784977  0.0328631  -0.03364631 -0.00846271]]\n"
     ]
    }
   ],
   "source": [
    "D_inv = np.linalg.inv(D)\n",
    "print(D_inv)"
   ]
  },
  {
   "cell_type": "markdown",
   "id": "ce8e839d",
   "metadata": {},
   "source": [
    "## Задание 13"
   ]
  },
  {
   "cell_type": "markdown",
   "id": "27822c1b",
   "metadata": {},
   "source": [
    "Приравняйте к нулю отрицательные числа в матрице D_inv, а положительные - к единице. Убедитесь, что в матрице D_inv остались только нули и единицы. С помощью функции numpy.where, используя матрицу D_inv в качестве маски, а матрицы B и C - в качестве источников данных, получите матрицу E размером 4x4.  Элементы матрицы E, для которых соответствующий элемент матрицы D_inv равен 1, должны быть равны соответствующему элементу матрицы B, а элементы матрицы E, для которых соответствующий элемент матрицы D_inv равен 0, должны быть равны соответствующему элементу матрицы C."
   ]
  },
  {
   "cell_type": "code",
   "execution_count": 36,
   "id": "1e8135c1",
   "metadata": {},
   "outputs": [
    {
     "name": "stdout",
     "output_type": "stream",
     "text": [
      "[[1 1 0 1]\n",
      " [1 1 0 1]\n",
      " [0 0 1 1]\n",
      " [1 1 0 0]]\n"
     ]
    }
   ],
   "source": [
    "D_1 = D_inv.flatten()\n",
    "D_2 = []\n",
    "for i in D_1:\n",
    "    if float(i) < 0:\n",
    "        D_2.append(0)\n",
    "    else:\n",
    "        D_2.append(1)\n",
    "for i in D_2:\n",
    "    if i != 0 and i != 1:\n",
    "        print('Mistake')\n",
    "    else:\n",
    "        'Ok'\n",
    "D_3 = np.array(D_2)\n",
    "D_4 = D_3.reshape(4, 4)\n",
    "print(D_4)"
   ]
  },
  {
   "cell_type": "code",
   "execution_count": 37,
   "id": "e34961bf",
   "metadata": {},
   "outputs": [
    {
     "name": "stdout",
     "output_type": "stream",
     "text": [
      "[  5  14  32  14  50 122 149 212  32 122]\n"
     ]
    }
   ],
   "source": [
    "ind_B = np.where(D_4 == 1)\n",
    "b = B[ind_B]\n",
    "print(b)"
   ]
  },
  {
   "cell_type": "code",
   "execution_count": 38,
   "id": "b08584b9",
   "metadata": {},
   "outputs": [
    {
     "name": "stdout",
     "output_type": "stream",
     "text": [
      "[ 5  9  3  8 12  4]\n"
     ]
    }
   ],
   "source": [
    "ind_C = np.where(D_4 == 0)\n",
    "c = C[ind_C]\n",
    "print(c)"
   ]
  },
  {
   "cell_type": "code",
   "execution_count": 39,
   "id": "f130d8bb",
   "metadata": {},
   "outputs": [
    {
     "name": "stdout",
     "output_type": "stream",
     "text": [
      "[[  5  14   5  32]\n",
      " [ 14  50   9 122]\n",
      " [  3   8 149 212]\n",
      " [ 32 122  12   4]]\n"
     ]
    }
   ],
   "source": [
    "D_4[ind_B] = B[ind_B]\n",
    "D_4[ind_C] = C[ind_C]\n",
    "print(D_4)"
   ]
  }
 ],
 "metadata": {
  "kernelspec": {
   "display_name": "Python 3 (ipykernel)",
   "language": "python",
   "name": "python3"
  },
  "language_info": {
   "codemirror_mode": {
    "name": "ipython",
    "version": 3
   },
   "file_extension": ".py",
   "mimetype": "text/x-python",
   "name": "python",
   "nbconvert_exporter": "python",
   "pygments_lexer": "ipython3",
   "version": "3.10.4"
  }
 },
 "nbformat": 4,
 "nbformat_minor": 5
}
